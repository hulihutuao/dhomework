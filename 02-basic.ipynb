{
 "cells": [
  {
   "cell_type": "code",
   "execution_count": 1,
   "metadata": {},
   "outputs": [
    {
     "name": "stdout",
     "output_type": "stream",
     "text": [
      "很繁琐\n"
     ]
    }
   ],
   "source": [
    "print('很繁琐')"
   ]
  },
  {
   "cell_type": "code",
   "execution_count": 2,
   "metadata": {},
   "outputs": [
    {
     "data": {
      "text/plain": [
       "\"'\\n这是多行注释\\n这是多行注释\\n\""
      ]
     },
     "execution_count": 2,
     "metadata": {},
     "output_type": "execute_result"
    }
   ],
   "source": [
    "#这是注释\n",
    "'这是单行注释'\n",
    "''''\n",
    "这是多行注释\n",
    "这是多行注释\n",
    "'''"
   ]
  },
  {
   "cell_type": "code",
   "execution_count": 3,
   "metadata": {},
   "outputs": [
    {
     "name": "stdout",
     "output_type": "stream",
     "text": [
      "5 +5=10\n",
      "5 -5=0\n",
      "5 *5=25\n",
      "5 /5=1.0\n",
      "5 **5=3125\n",
      "5 %5=0\n"
     ]
    }
   ],
   "source": [
    "print(\"5 +5=\"+str(5+5))   \n",
    "print(\"5 -5=\"+str(5-5))\n",
    "print(\"5 *5=\"+str(5*5))\n",
    "print(\"5 /5=\"+str(5/5))\n",
    "print(\"5 **5=\"+str(5**5))\n",
    "print(\"5 %5=\"+str(5%5))"
   ]
  },
  {
   "cell_type": "code",
   "execution_count": 4,
   "metadata": {},
   "outputs": [],
   "source": [
    "menpai='昆仑派'"
   ]
  }
 ],
 "metadata": {
  "kernelspec": {
   "display_name": "Python 3",
   "language": "python",
   "name": "python3"
  },
  "language_info": {
   "codemirror_mode": {
    "name": "ipython",
    "version": 3
   },
   "file_extension": ".py",
   "mimetype": "text/x-python",
   "name": "python",
   "nbconvert_exporter": "python",
   "pygments_lexer": "ipython3",
   "version": "3.8.10"
  },
  "orig_nbformat": 4
 },
 "nbformat": 4,
 "nbformat_minor": 2
}
