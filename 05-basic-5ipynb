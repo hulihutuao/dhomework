#任务一 csv格式数据的读写 
import pandas as pd